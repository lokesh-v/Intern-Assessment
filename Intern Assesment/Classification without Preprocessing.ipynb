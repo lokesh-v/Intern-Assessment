{
 "cells": [
  {
   "cell_type": "code",
   "execution_count": 390,
   "metadata": {},
   "outputs": [],
   "source": [
    "#Importing Libraries\n",
    "import pandas as pd\n",
    "import numpy as np\n",
    "import seaborn as sns\n",
    "import matplotlib.pyplot as plt\n",
    "%matplotlib inline"
   ]
  },
  {
   "cell_type": "code",
   "execution_count": 424,
   "metadata": {
    "scrolled": true
   },
   "outputs": [
    {
     "data": {
      "text/html": [
       "<div>\n",
       "<style scoped>\n",
       "    .dataframe tbody tr th:only-of-type {\n",
       "        vertical-align: middle;\n",
       "    }\n",
       "\n",
       "    .dataframe tbody tr th {\n",
       "        vertical-align: top;\n",
       "    }\n",
       "\n",
       "    .dataframe thead th {\n",
       "        text-align: right;\n",
       "    }\n",
       "</style>\n",
       "<table border=\"1\" class=\"dataframe\">\n",
       "  <thead>\n",
       "    <tr style=\"text-align: right;\">\n",
       "      <th></th>\n",
       "      <th>A</th>\n",
       "      <th>B</th>\n",
       "      <th>C</th>\n",
       "      <th>D</th>\n",
       "      <th>E</th>\n",
       "      <th>F</th>\n",
       "      <th>G</th>\n",
       "      <th>H</th>\n",
       "      <th>I</th>\n",
       "      <th>J</th>\n",
       "      <th>...</th>\n",
       "      <th>Y6</th>\n",
       "      <th>Y7</th>\n",
       "      <th>Y8</th>\n",
       "      <th>Y9</th>\n",
       "      <th>Z1</th>\n",
       "      <th>Z2</th>\n",
       "      <th>Z4</th>\n",
       "      <th>Z5</th>\n",
       "      <th>Z6</th>\n",
       "      <th>Class</th>\n",
       "    </tr>\n",
       "  </thead>\n",
       "  <tbody>\n",
       "    <tr>\n",
       "      <th>0</th>\n",
       "      <td>6</td>\n",
       "      <td>860.62</td>\n",
       "      <td>809.73</td>\n",
       "      <td>919.69</td>\n",
       "      <td>30.87</td>\n",
       "      <td>69.81</td>\n",
       "      <td>65.24</td>\n",
       "      <td>74.10</td>\n",
       "      <td>2.51</td>\n",
       "      <td>2</td>\n",
       "      <td>...</td>\n",
       "      <td>0.002757</td>\n",
       "      <td>-0.003582</td>\n",
       "      <td>0.000125</td>\n",
       "      <td>0.001961</td>\n",
       "      <td>-3.290000e-08</td>\n",
       "      <td>0.000346</td>\n",
       "      <td>0.000956</td>\n",
       "      <td>9.150000e-07</td>\n",
       "      <td>1.190000e-07</td>\n",
       "      <td>A</td>\n",
       "    </tr>\n",
       "    <tr>\n",
       "      <th>1</th>\n",
       "      <td>7</td>\n",
       "      <td>871.58</td>\n",
       "      <td>789.74</td>\n",
       "      <td>929.69</td>\n",
       "      <td>32.82</td>\n",
       "      <td>68.94</td>\n",
       "      <td>64.54</td>\n",
       "      <td>75.97</td>\n",
       "      <td>2.65</td>\n",
       "      <td>5</td>\n",
       "      <td>...</td>\n",
       "      <td>0.002757</td>\n",
       "      <td>-0.002944</td>\n",
       "      <td>0.000131</td>\n",
       "      <td>0.001932</td>\n",
       "      <td>-3.290000e-08</td>\n",
       "      <td>0.000358</td>\n",
       "      <td>0.000888</td>\n",
       "      <td>7.880000e-07</td>\n",
       "      <td>1.280000e-07</td>\n",
       "      <td>A</td>\n",
       "    </tr>\n",
       "    <tr>\n",
       "      <th>2</th>\n",
       "      <td>6</td>\n",
       "      <td>854.87</td>\n",
       "      <td>789.74</td>\n",
       "      <td>929.69</td>\n",
       "      <td>32.38</td>\n",
       "      <td>70.29</td>\n",
       "      <td>64.54</td>\n",
       "      <td>75.97</td>\n",
       "      <td>2.66</td>\n",
       "      <td>4</td>\n",
       "      <td>...</td>\n",
       "      <td>0.003168</td>\n",
       "      <td>-0.002944</td>\n",
       "      <td>0.000125</td>\n",
       "      <td>0.001628</td>\n",
       "      <td>-3.290000e-08</td>\n",
       "      <td>0.000339</td>\n",
       "      <td>0.000875</td>\n",
       "      <td>7.660000e-07</td>\n",
       "      <td>1.150000e-07</td>\n",
       "      <td>A</td>\n",
       "    </tr>\n",
       "    <tr>\n",
       "      <th>3</th>\n",
       "      <td>7</td>\n",
       "      <td>823.73</td>\n",
       "      <td>759.75</td>\n",
       "      <td>879.71</td>\n",
       "      <td>29.19</td>\n",
       "      <td>72.93</td>\n",
       "      <td>68.20</td>\n",
       "      <td>78.97</td>\n",
       "      <td>2.58</td>\n",
       "      <td>0</td>\n",
       "      <td>...</td>\n",
       "      <td>0.003168</td>\n",
       "      <td>-0.002490</td>\n",
       "      <td>0.000116</td>\n",
       "      <td>0.001572</td>\n",
       "      <td>-3.290000e-08</td>\n",
       "      <td>0.000308</td>\n",
       "      <td>0.000856</td>\n",
       "      <td>7.330000e-07</td>\n",
       "      <td>9.480000e-08</td>\n",
       "      <td>A</td>\n",
       "    </tr>\n",
       "    <tr>\n",
       "      <th>4</th>\n",
       "      <td>6</td>\n",
       "      <td>823.44</td>\n",
       "      <td>759.75</td>\n",
       "      <td>879.71</td>\n",
       "      <td>28.98</td>\n",
       "      <td>72.96</td>\n",
       "      <td>68.20</td>\n",
       "      <td>78.97</td>\n",
       "      <td>2.56</td>\n",
       "      <td>0</td>\n",
       "      <td>...</td>\n",
       "      <td>0.003091</td>\n",
       "      <td>-0.002601</td>\n",
       "      <td>0.000126</td>\n",
       "      <td>0.001596</td>\n",
       "      <td>-3.290000e-08</td>\n",
       "      <td>0.000318</td>\n",
       "      <td>0.000913</td>\n",
       "      <td>8.330000e-07</td>\n",
       "      <td>1.010000e-07</td>\n",
       "      <td>A</td>\n",
       "    </tr>\n",
       "  </tbody>\n",
       "</table>\n",
       "<p>5 rows × 42 columns</p>\n",
       "</div>"
      ],
      "text/plain": [
       "   A       B       C       D      E      F      G      H     I  J  ...  \\\n",
       "0  6  860.62  809.73  919.69  30.87  69.81  65.24  74.10  2.51  2  ...   \n",
       "1  7  871.58  789.74  929.69  32.82  68.94  64.54  75.97  2.65  5  ...   \n",
       "2  6  854.87  789.74  929.69  32.38  70.29  64.54  75.97  2.66  4  ...   \n",
       "3  7  823.73  759.75  879.71  29.19  72.93  68.20  78.97  2.58  0  ...   \n",
       "4  6  823.44  759.75  879.71  28.98  72.96  68.20  78.97  2.56  0  ...   \n",
       "\n",
       "         Y6        Y7        Y8        Y9            Z1        Z2        Z4  \\\n",
       "0  0.002757 -0.003582  0.000125  0.001961 -3.290000e-08  0.000346  0.000956   \n",
       "1  0.002757 -0.002944  0.000131  0.001932 -3.290000e-08  0.000358  0.000888   \n",
       "2  0.003168 -0.002944  0.000125  0.001628 -3.290000e-08  0.000339  0.000875   \n",
       "3  0.003168 -0.002490  0.000116  0.001572 -3.290000e-08  0.000308  0.000856   \n",
       "4  0.003091 -0.002601  0.000126  0.001596 -3.290000e-08  0.000318  0.000913   \n",
       "\n",
       "             Z5            Z6  Class  \n",
       "0  9.150000e-07  1.190000e-07      A  \n",
       "1  7.880000e-07  1.280000e-07      A  \n",
       "2  7.660000e-07  1.150000e-07      A  \n",
       "3  7.330000e-07  9.480000e-08      A  \n",
       "4  8.330000e-07  1.010000e-07      A  \n",
       "\n",
       "[5 rows x 42 columns]"
      ]
     },
     "execution_count": 424,
     "metadata": {},
     "output_type": "execute_result"
    }
   ],
   "source": [
    "# Reading Dataset\n",
    "data = pd.read_csv(\"Test_Data.csv\")\n",
    "data.drop(['Unnamed: 0'],axis=1,inplace = True)\n",
    "data.head()"
   ]
  },
  {
   "cell_type": "code",
   "execution_count": 425,
   "metadata": {},
   "outputs": [
    {
     "data": {
      "text/plain": [
       "(5839, 42)"
      ]
     },
     "execution_count": 425,
     "metadata": {},
     "output_type": "execute_result"
    }
   ],
   "source": [
    "data.shape"
   ]
  },
  {
   "cell_type": "code",
   "execution_count": 451,
   "metadata": {},
   "outputs": [
    {
     "data": {
      "text/plain": [
       "<matplotlib.axes._subplots.AxesSubplot at 0x1b2a08bca90>"
      ]
     },
     "execution_count": 451,
     "metadata": {},
     "output_type": "execute_result"
    },
    {
     "data": {
      "image/png": "[encoded data removed]",
      "text/plain": [
       "<Figure size 432x288 with 2 Axes>"
      ]
     },
     "metadata": {
      "needs_background": "light"
     },
     "output_type": "display_data"
    }
   ],
   "source": [
    "sns.heatmap(data.isnull()) # Dataset doesn't have any missing values"
   ]
  },
  {
   "cell_type": "markdown",
   "metadata": {},
   "source": [
    "# Encoding"
   ]
  },
  {
   "cell_type": "code",
   "execution_count": 426,
   "metadata": {},
   "outputs": [],
   "source": [
    "from sklearn import preprocessing\n",
    "label_encoder = preprocessing.LabelEncoder()\n",
    "data['Class']= label_encoder.fit_transform(data['Class']) "
   ]
  },
  {
   "cell_type": "code",
   "execution_count": 427,
   "metadata": {},
   "outputs": [
    {
     "data": {
      "text/html": [
       "<div>\n",
       "<style scoped>\n",
       "    .dataframe tbody tr th:only-of-type {\n",
       "        vertical-align: middle;\n",
       "    }\n",
       "\n",
       "    .dataframe tbody tr th {\n",
       "        vertical-align: top;\n",
       "    }\n",
       "\n",
       "    .dataframe thead th {\n",
       "        text-align: right;\n",
       "    }\n",
       "</style>\n",
       "<table border=\"1\" class=\"dataframe\">\n",
       "  <thead>\n",
       "    <tr style=\"text-align: right;\">\n",
       "      <th></th>\n",
       "      <th>A</th>\n",
       "      <th>B</th>\n",
       "      <th>C</th>\n",
       "      <th>D</th>\n",
       "      <th>E</th>\n",
       "      <th>F</th>\n",
       "      <th>G</th>\n",
       "      <th>H</th>\n",
       "      <th>I</th>\n",
       "      <th>J</th>\n",
       "      <th>...</th>\n",
       "      <th>Y6</th>\n",
       "      <th>Y7</th>\n",
       "      <th>Y8</th>\n",
       "      <th>Y9</th>\n",
       "      <th>Z1</th>\n",
       "      <th>Z2</th>\n",
       "      <th>Z4</th>\n",
       "      <th>Z5</th>\n",
       "      <th>Z6</th>\n",
       "      <th>Class</th>\n",
       "    </tr>\n",
       "  </thead>\n",
       "  <tbody>\n",
       "    <tr>\n",
       "      <th>0</th>\n",
       "      <td>6</td>\n",
       "      <td>860.62</td>\n",
       "      <td>809.73</td>\n",
       "      <td>919.69</td>\n",
       "      <td>30.87</td>\n",
       "      <td>69.81</td>\n",
       "      <td>65.24</td>\n",
       "      <td>74.10</td>\n",
       "      <td>2.51</td>\n",
       "      <td>2</td>\n",
       "      <td>...</td>\n",
       "      <td>0.002757</td>\n",
       "      <td>-0.003582</td>\n",
       "      <td>0.000125</td>\n",
       "      <td>0.001961</td>\n",
       "      <td>-3.290000e-08</td>\n",
       "      <td>0.000346</td>\n",
       "      <td>0.000956</td>\n",
       "      <td>9.150000e-07</td>\n",
       "      <td>1.190000e-07</td>\n",
       "      <td>0</td>\n",
       "    </tr>\n",
       "    <tr>\n",
       "      <th>1</th>\n",
       "      <td>7</td>\n",
       "      <td>871.58</td>\n",
       "      <td>789.74</td>\n",
       "      <td>929.69</td>\n",
       "      <td>32.82</td>\n",
       "      <td>68.94</td>\n",
       "      <td>64.54</td>\n",
       "      <td>75.97</td>\n",
       "      <td>2.65</td>\n",
       "      <td>5</td>\n",
       "      <td>...</td>\n",
       "      <td>0.002757</td>\n",
       "      <td>-0.002944</td>\n",
       "      <td>0.000131</td>\n",
       "      <td>0.001932</td>\n",
       "      <td>-3.290000e-08</td>\n",
       "      <td>0.000358</td>\n",
       "      <td>0.000888</td>\n",
       "      <td>7.880000e-07</td>\n",
       "      <td>1.280000e-07</td>\n",
       "      <td>0</td>\n",
       "    </tr>\n",
       "    <tr>\n",
       "      <th>2</th>\n",
       "      <td>6</td>\n",
       "      <td>854.87</td>\n",
       "      <td>789.74</td>\n",
       "      <td>929.69</td>\n",
       "      <td>32.38</td>\n",
       "      <td>70.29</td>\n",
       "      <td>64.54</td>\n",
       "      <td>75.97</td>\n",
       "      <td>2.66</td>\n",
       "      <td>4</td>\n",
       "      <td>...</td>\n",
       "      <td>0.003168</td>\n",
       "      <td>-0.002944</td>\n",
       "      <td>0.000125</td>\n",
       "      <td>0.001628</td>\n",
       "      <td>-3.290000e-08</td>\n",
       "      <td>0.000339</td>\n",
       "      <td>0.000875</td>\n",
       "      <td>7.660000e-07</td>\n",
       "      <td>1.150000e-07</td>\n",
       "      <td>0</td>\n",
       "    </tr>\n",
       "    <tr>\n",
       "      <th>3</th>\n",
       "      <td>7</td>\n",
       "      <td>823.73</td>\n",
       "      <td>759.75</td>\n",
       "      <td>879.71</td>\n",
       "      <td>29.19</td>\n",
       "      <td>72.93</td>\n",
       "      <td>68.20</td>\n",
       "      <td>78.97</td>\n",
       "      <td>2.58</td>\n",
       "      <td>0</td>\n",
       "      <td>...</td>\n",
       "      <td>0.003168</td>\n",
       "      <td>-0.002490</td>\n",
       "      <td>0.000116</td>\n",
       "      <td>0.001572</td>\n",
       "      <td>-3.290000e-08</td>\n",
       "      <td>0.000308</td>\n",
       "      <td>0.000856</td>\n",
       "      <td>7.330000e-07</td>\n",
       "      <td>9.480000e-08</td>\n",
       "      <td>0</td>\n",
       "    </tr>\n",
       "    <tr>\n",
       "      <th>4</th>\n",
       "      <td>6</td>\n",
       "      <td>823.44</td>\n",
       "      <td>759.75</td>\n",
       "      <td>879.71</td>\n",
       "      <td>28.98</td>\n",
       "      <td>72.96</td>\n",
       "      <td>68.20</td>\n",
       "      <td>78.97</td>\n",
       "      <td>2.56</td>\n",
       "      <td>0</td>\n",
       "      <td>...</td>\n",
       "      <td>0.003091</td>\n",
       "      <td>-0.002601</td>\n",
       "      <td>0.000126</td>\n",
       "      <td>0.001596</td>\n",
       "      <td>-3.290000e-08</td>\n",
       "      <td>0.000318</td>\n",
       "      <td>0.000913</td>\n",
       "      <td>8.330000e-07</td>\n",
       "      <td>1.010000e-07</td>\n",
       "      <td>0</td>\n",
       "    </tr>\n",
       "  </tbody>\n",
       "</table>\n",
       "<p>5 rows × 42 columns</p>\n",
       "</div>"
      ],
      "text/plain": [
       "   A       B       C       D      E      F      G      H     I  J  ...  \\\n",
       "0  6  860.62  809.73  919.69  30.87  69.81  65.24  74.10  2.51  2  ...   \n",
       "1  7  871.58  789.74  929.69  32.82  68.94  64.54  75.97  2.65  5  ...   \n",
       "2  6  854.87  789.74  929.69  32.38  70.29  64.54  75.97  2.66  4  ...   \n",
       "3  7  823.73  759.75  879.71  29.19  72.93  68.20  78.97  2.58  0  ...   \n",
       "4  6  823.44  759.75  879.71  28.98  72.96  68.20  78.97  2.56  0  ...   \n",
       "\n",
       "         Y6        Y7        Y8        Y9            Z1        Z2        Z4  \\\n",
       "0  0.002757 -0.003582  0.000125  0.001961 -3.290000e-08  0.000346  0.000956   \n",
       "1  0.002757 -0.002944  0.000131  0.001932 -3.290000e-08  0.000358  0.000888   \n",
       "2  0.003168 -0.002944  0.000125  0.001628 -3.290000e-08  0.000339  0.000875   \n",
       "3  0.003168 -0.002490  0.000116  0.001572 -3.290000e-08  0.000308  0.000856   \n",
       "4  0.003091 -0.002601  0.000126  0.001596 -3.290000e-08  0.000318  0.000913   \n",
       "\n",
       "             Z5            Z6  Class  \n",
       "0  9.150000e-07  1.190000e-07      0  \n",
       "1  7.880000e-07  1.280000e-07      0  \n",
       "2  7.660000e-07  1.150000e-07      0  \n",
       "3  7.330000e-07  9.480000e-08      0  \n",
       "4  8.330000e-07  1.010000e-07      0  \n",
       "\n",
       "[5 rows x 42 columns]"
      ]
     },
     "execution_count": 427,
     "metadata": {},
     "output_type": "execute_result"
    }
   ],
   "source": [
    "data.head()"
   ]
  },
  {
   "cell_type": "code",
   "execution_count": 428,
   "metadata": {},
   "outputs": [],
   "source": [
    "# Selecting Features and Target\n",
    "X = data.drop(['Class'],axis = 1)\n",
    "y = data['Class']"
   ]
  },
  {
   "cell_type": "markdown",
   "metadata": {},
   "source": [
    "# Splitting the dataset"
   ]
  },
  {
   "cell_type": "code",
   "execution_count": 429,
   "metadata": {},
   "outputs": [],
   "source": [
    "# Splitting the dataset into the Training set and Test set\n",
    "from sklearn.model_selection import train_test_split\n",
    "X_train, X_test, y_train, y_test = train_test_split(X, y, test_size = 0.30, random_state = 0)"
   ]
  },
  {
   "cell_type": "code",
   "execution_count": 430,
   "metadata": {},
   "outputs": [
    {
     "name": "stderr",
     "output_type": "stream",
     "text": [
      "C:\\Users\\Loki\\Anaconda3\\lib\\site-packages\\sklearn\\preprocessing\\data.py:645: DataConversionWarning: Data with input dtype int64, float64 were all converted to float64 by StandardScaler.\n",
      "  return self.partial_fit(X, y)\n",
      "C:\\Users\\Loki\\Anaconda3\\lib\\site-packages\\sklearn\\base.py:464: DataConversionWarning: Data with input dtype int64, float64 were all converted to float64 by StandardScaler.\n",
      "  return self.fit(X, **fit_params).transform(X)\n",
      "C:\\Users\\Loki\\Anaconda3\\lib\\site-packages\\ipykernel_launcher.py:5: DataConversionWarning: Data with input dtype int64, float64 were all converted to float64 by StandardScaler.\n",
      "  \"\"\"\n"
     ]
    }
   ],
   "source": [
    "# Feature Scaling\n",
    "from sklearn.preprocessing import StandardScaler\n",
    "sc = StandardScaler()\n",
    "X_train = sc.fit_transform(X_train)\n",
    "X_test = sc.transform(X_test)"
   ]
  },
  {
   "cell_type": "markdown",
   "metadata": {},
   "source": [
    "# Random Forest"
   ]
  },
  {
   "cell_type": "code",
   "execution_count": 431,
   "metadata": {},
   "outputs": [
    {
     "data": {
      "text/plain": [
       "RandomForestClassifier(bootstrap=True, class_weight=None, criterion='gini',\n",
       "            max_depth=None, max_features='auto', max_leaf_nodes=None,\n",
       "            min_impurity_decrease=0.0, min_impurity_split=None,\n",
       "            min_samples_leaf=1, min_samples_split=2,\n",
       "            min_weight_fraction_leaf=0.0, n_estimators=800, n_jobs=None,\n",
       "            oob_score=False, random_state=None, verbose=0,\n",
       "            warm_start=False)"
      ]
     },
     "execution_count": 431,
     "metadata": {},
     "output_type": "execute_result"
    }
   ],
   "source": [
    "from sklearn.ensemble import RandomForestClassifier\n",
    "rfc = RandomForestClassifier(n_estimators=800)\n",
    "rfc.fit(X_train,y_train)"
   ]
  },
  {
   "cell_type": "code",
   "execution_count": 433,
   "metadata": {},
   "outputs": [],
   "source": [
    "# Predicting for X_test data\n",
    "predictions = rfc.predict(X_test)"
   ]
  },
  {
   "cell_type": "markdown",
   "metadata": {},
   "source": [
    "# Evaluation"
   ]
  },
  {
   "cell_type": "code",
   "execution_count": 434,
   "metadata": {},
   "outputs": [
    {
     "name": "stdout",
     "output_type": "stream",
     "text": [
      "              precision    recall  f1-score   support\n",
      "\n",
      "           0       0.65      0.71      0.68       310\n",
      "           1       0.68      0.64      0.66       356\n",
      "           2       0.77      0.86      0.81       481\n",
      "           3       0.91      0.50      0.64        78\n",
      "           4       0.85      0.78      0.81       317\n",
      "           5       0.80      0.80      0.80       210\n",
      "\n",
      "   micro avg       0.75      0.75      0.75      1752\n",
      "   macro avg       0.78      0.71      0.73      1752\n",
      "weighted avg       0.75      0.75      0.75      1752\n",
      "\n"
     ]
    }
   ],
   "source": [
    "# Evalution of Model\n",
    "from sklearn.metrics import classification_report,confusion_matrix\n",
    "print(classification_report(y_test,predictions))"
   ]
  },
  {
   "cell_type": "markdown",
   "metadata": {},
   "source": [
    "# XGBoost"
   ]
  },
  {
   "cell_type": "code",
   "execution_count": 435,
   "metadata": {},
   "outputs": [
    {
     "data": {
      "text/plain": [
       "XGBClassifier(base_score=0.5, booster='gbtree', colsample_bylevel=1,\n",
       "       colsample_bynode=1, colsample_bytree=1, gamma=0, learning_rate=0.1,\n",
       "       max_delta_step=0, max_depth=3, min_child_weight=1, missing=None,\n",
       "       n_estimators=800, n_jobs=1, nthread=None,\n",
       "       objective='multi:softprob', random_state=0, reg_alpha=0,\n",
       "       reg_lambda=1, scale_pos_weight=1, seed=None, silent=None,\n",
       "       subsample=1, verbosity=1)"
      ]
     },
     "execution_count": 435,
     "metadata": {},
     "output_type": "execute_result"
    }
   ],
   "source": [
    "from xgboost import XGBClassifier, XGBRegressor\n",
    "model = XGBClassifier(n_estimators=800)\n",
    "model.fit(X_train, y_train)"
   ]
  },
  {
   "cell_type": "code",
   "execution_count": 436,
   "metadata": {},
   "outputs": [],
   "source": [
    "# Predicting\n",
    "y_pred = model.predict(X_test)"
   ]
  },
  {
   "cell_type": "code",
   "execution_count": 437,
   "metadata": {},
   "outputs": [
    {
     "name": "stdout",
     "output_type": "stream",
     "text": [
      "              precision    recall  f1-score   support\n",
      "\n",
      "           0       0.62      0.65      0.63       310\n",
      "           1       0.63      0.63      0.63       356\n",
      "           2       0.79      0.83      0.81       481\n",
      "           3       0.81      0.49      0.61        78\n",
      "           4       0.84      0.83      0.84       317\n",
      "           5       0.80      0.80      0.80       210\n",
      "\n",
      "   micro avg       0.74      0.74      0.74      1752\n",
      "   macro avg       0.75      0.70      0.72      1752\n",
      "weighted avg       0.74      0.74      0.74      1752\n",
      "\n"
     ]
    }
   ],
   "source": [
    "# Evaluation of Model\n",
    "from sklearn.metrics import classification_report,confusion_matrix\n",
    "print(classification_report(y_test,y_pred))"
   ]
  },
  {
   "cell_type": "markdown",
   "metadata": {},
   "source": [
    "# PCA"
   ]
  },
  {
   "cell_type": "code",
   "execution_count": 438,
   "metadata": {},
   "outputs": [
    {
     "name": "stderr",
     "output_type": "stream",
     "text": [
      "C:\\Users\\Loki\\Anaconda3\\lib\\site-packages\\sklearn\\preprocessing\\data.py:645: DataConversionWarning: Data with input dtype int64, float64 were all converted to float64 by StandardScaler.\n",
      "  return self.partial_fit(X, y)\n",
      "C:\\Users\\Loki\\Anaconda3\\lib\\site-packages\\sklearn\\base.py:464: DataConversionWarning: Data with input dtype int64, float64 were all converted to float64 by StandardScaler.\n",
      "  return self.fit(X, **fit_params).transform(X)\n",
      "C:\\Users\\Loki\\Anaconda3\\lib\\site-packages\\ipykernel_launcher.py:5: DataConversionWarning: Data with input dtype int64, float64 were all converted to float64 by StandardScaler.\n",
      "  \"\"\"\n"
     ]
    }
   ],
   "source": [
    "# Feature Scaling\n",
    "from sklearn.preprocessing import StandardScaler\n",
    "sc = StandardScaler()\n",
    "sc.fit_transform(X)\n",
    "scaled_data =  sc.transform(X)"
   ]
  },
  {
   "cell_type": "code",
   "execution_count": 439,
   "metadata": {
    "collapsed": true
   },
   "outputs": [
    {
     "data": {
      "text/plain": [
       "array([[-0.7524833 , -0.10728189,  0.30498871, ..., -0.25033077,\n",
       "        -0.04482073, -0.05295035],\n",
       "       [-0.52745129, -0.05075213,  0.1993349 , ..., -0.25136744,\n",
       "        -0.04482194, -0.05294927],\n",
       "       [-0.7524833 , -0.13693938,  0.1993349 , ..., -0.25155622,\n",
       "        -0.04482215, -0.05295083],\n",
       "       ...,\n",
       "       [-0.07738727, -0.850576  , -0.91021503, ...,  1.19306743,\n",
       "         0.04420685,  0.26126837],\n",
       "       [-0.07738727, -0.93562853, -0.91021503, ...,  1.2150836 ,\n",
       "         0.04691635,  0.26209536],\n",
       "       [-0.30241928, -0.5788618 , -0.38189315, ..., -0.00662186,\n",
       "        -0.04203717, -0.05293144]])"
      ]
     },
     "execution_count": 439,
     "metadata": {},
     "output_type": "execute_result"
    }
   ],
   "source": [
    "scaled_data"
   ]
  },
  {
   "cell_type": "code",
   "execution_count": 440,
   "metadata": {},
   "outputs": [
    {
     "data": {
      "image/png": "[encoded data removed]",
      "text/plain": [
       "<Figure size 432x288 with 1 Axes>"
      ]
     },
     "metadata": {
      "needs_background": "light"
     },
     "output_type": "display_data"
    }
   ],
   "source": [
    "#Fitting the PCA algorithm with our Data\n",
    "pca = PCA().fit(scaled_data)\n",
    "#Plotting the Cumulative Summation of the Explained Variance\n",
    "plt.figure()\n",
    "plt.plot(np.cumsum(pca.explained_variance_ratio_))\n",
    "plt.xlabel('Number of Components')\n",
    "plt.ylabel('Variance (%)') #for each component\n",
    "plt.show()"
   ]
  },
  {
   "cell_type": "code",
   "execution_count": 445,
   "metadata": {},
   "outputs": [
    {
     "data": {
      "text/plain": [
       "PCA(copy=True, iterated_power='auto', n_components=23, random_state=None,\n",
       "  svd_solver='auto', tol=0.0, whiten=False)"
      ]
     },
     "execution_count": 445,
     "metadata": {},
     "output_type": "execute_result"
    }
   ],
   "source": [
    "# Doing PCA\n",
    "from sklearn.decomposition import PCA\n",
    "pca = PCA(n_components=23) \n",
    "pca.fit(scaled_data)\n"
   ]
  },
  {
   "cell_type": "code",
   "execution_count": 446,
   "metadata": {},
   "outputs": [
    {
     "data": {
      "text/plain": [
       "(5839, 23)"
      ]
     },
     "execution_count": 446,
     "metadata": {},
     "output_type": "execute_result"
    }
   ],
   "source": [
    "x_pca = pca.transform(scaled_data)\n",
    "x_pca.shape"
   ]
  },
  {
   "cell_type": "code",
   "execution_count": 447,
   "metadata": {},
   "outputs": [],
   "source": [
    "# Splitting the Dataset\n",
    "from sklearn.model_selection import train_test_split\n",
    "X_train, X_test, y_train, y_test = train_test_split(x_pca, y, test_size = 0.25, random_state = 0)"
   ]
  },
  {
   "cell_type": "code",
   "execution_count": 448,
   "metadata": {},
   "outputs": [
    {
     "data": {
      "text/plain": [
       "RandomForestClassifier(bootstrap=True, class_weight=None, criterion='gini',\n",
       "            max_depth=None, max_features='auto', max_leaf_nodes=None,\n",
       "            min_impurity_decrease=0.0, min_impurity_split=None,\n",
       "            min_samples_leaf=1, min_samples_split=2,\n",
       "            min_weight_fraction_leaf=0.0, n_estimators=600, n_jobs=None,\n",
       "            oob_score=False, random_state=None, verbose=0,\n",
       "            warm_start=False)"
      ]
     },
     "execution_count": 448,
     "metadata": {},
     "output_type": "execute_result"
    }
   ],
   "source": [
    "from sklearn.ensemble import RandomForestClassifier\n",
    "rfc = RandomForestClassifier(n_estimators=600)\n",
    "rfc.fit(X_train,y_train)"
   ]
  },
  {
   "cell_type": "code",
   "execution_count": 449,
   "metadata": {},
   "outputs": [
    {
     "name": "stdout",
     "output_type": "stream",
     "text": [
      "              precision    recall  f1-score   support\n",
      "\n",
      "           0       0.51      0.49      0.50       254\n",
      "           1       0.49      0.48      0.48       294\n",
      "           2       0.61      0.81      0.70       401\n",
      "           3       0.80      0.24      0.37        66\n",
      "           4       0.68      0.58      0.63       270\n",
      "           5       0.64      0.55      0.59       175\n",
      "\n",
      "   micro avg       0.59      0.59      0.59      1460\n",
      "   macro avg       0.62      0.52      0.54      1460\n",
      "weighted avg       0.59      0.59      0.58      1460\n",
      "\n"
     ]
    }
   ],
   "source": [
    "pred_aftr_pca = rfc.predict(X_test)\n",
    "from sklearn.metrics import classification_report,confusion_matrix\n",
    "print(classification_report(y_test,pred_aftr_pca))"
   ]
  },
  {
   "cell_type": "markdown",
   "metadata": {},
   "source": [
    "# Note\n",
    "           We are doing classification of the dataset without any Preprocessing."
   ]
  },
  {
   "cell_type": "code",
   "execution_count": null,
   "metadata": {},
   "outputs": [],
   "source": []
  }
 ],
 "metadata": {
  "kernelspec": {
   "display_name": "Python 3",
   "language": "python",
   "name": "python3"
  },
  "language_info": {
   "codemirror_mode": {
    "name": "ipython",
    "version": 3
   },
   "file_extension": ".py",
   "mimetype": "text/x-python",
   "name": "python",
   "nbconvert_exporter": "python",
   "pygments_lexer": "ipython3",
   "version": "3.7.3"
  }
 },
 "nbformat": 4,
 "nbformat_minor": 2
}
