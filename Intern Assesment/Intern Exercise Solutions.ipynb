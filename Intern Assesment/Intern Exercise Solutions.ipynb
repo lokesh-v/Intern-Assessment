{
 "cells": [
  {
   "cell_type": "markdown",
   "metadata": {},
   "source": [
    "# Solutions \n",
    "\n",
    "Ex : 1\n",
    " "
   ]
  },
  {
   "cell_type": "code",
   "execution_count": 1,
   "metadata": {},
   "outputs": [
    {
     "name": "stdout",
     "output_type": "stream",
     "text": [
      "1100,1111,1010,1110\n",
      "1111,1010\n"
     ]
    }
   ],
   "source": [
    "result = []\n",
    "num = [x for x in input().split(',')]  # getting the input from the console by comma separated values and storing in a list.\n",
    "for p in num:\n",
    "    x = int(p, 2)     # converting binary to integer and storing in a separate variable.\n",
    "    if not x%5:\n",
    "        result.append(p)\n",
    "print(','.join(result))   # printing the number binary number divisible by 5"
   ]
  },
  {
   "cell_type": "markdown",
   "metadata": {},
   "source": [
    "Ex : 2"
   ]
  },
  {
   "cell_type": "code",
   "execution_count": 2,
   "metadata": {},
   "outputs": [
    {
     "name": "stdout",
     "output_type": "stream",
     "text": [
      "Enter comma-separated passwords: Loki@122,dlsdj@4343,Ghj@3jjd,ghsd23332\n",
      "Loki@122,Ghj@3jjd\n"
     ]
    }
   ],
   "source": [
    "special_chr = \"$#@\"\n",
    "accepted = []\n",
    "passwords = input(\"Enter comma-separated passwords: \").split(',')\n",
    "for password in passwords:\n",
    "    lower = 0\n",
    "    upper = 0\n",
    "    digits = 0\n",
    "    special = 0\n",
    "    for char in password:\n",
    "        if char.islower():\n",
    "            lower += 1\n",
    "        elif char.isupper():\n",
    "            upper += 1\n",
    "        elif char.isdigit():\n",
    "            digits += 1\n",
    "        elif special_chr.find(char) != -1:\n",
    "            special += 1\n",
    "\n",
    "    if lower >= 1 and upper >= 1 and digits >= 1 and special >= 1 and len(password) in range(6,13):\n",
    "        accepted.append(password)\n",
    "        \n",
    "    #else:\n",
    "     #   print(\"Invalid Passsword\")\n",
    "\n",
    "print (\",\".join(accepted))"
   ]
  },
  {
   "cell_type": "raw",
   "metadata": {},
   "source": [
    " Ex : 3"
   ]
  },
  {
   "cell_type": "code",
   "execution_count": 3,
   "metadata": {},
   "outputs": [
    {
     "name": "stdout",
     "output_type": "stream",
     "text": [
      "Tom,19,80\n",
      "John,20,90\n",
      "Jony,17,91\n",
      "Jony,17,93\n",
      "Json,21,85\n",
      "\n",
      "[('John', '20', '90'), ('Jony', '17', '91'), ('Jony', '17', '93'), ('Json', '21', '85'), ('Tom', '19', '80')]\n"
     ]
    }
   ],
   "source": [
    "from operator import itemgetter\n",
    "\n",
    "people_info = []\n",
    "while True:\n",
    "    individual_info = input()\n",
    "\n",
    "    if individual_info == \"\":\n",
    "        break\n",
    "    else:\n",
    "        people_info.append(tuple((individual_info.split(\",\"))))\n",
    "\n",
    "people_info.sort(key =  itemgetter(0, 1, 2))       \n",
    "print(people_info)"
   ]
  },
  {
   "cell_type": "raw",
   "metadata": {},
   "source": [
    "Ex : 4\n"
   ]
  },
  {
   "cell_type": "markdown",
   "metadata": {},
   "source": [
    "# Importing Libraries"
   ]
  },
  {
   "cell_type": "code",
   "execution_count": 4,
   "metadata": {},
   "outputs": [],
   "source": [
    "import pandas as pd\n",
    "import numpy as np\n",
    "import seaborn as sns\n",
    "import matplotlib.pyplot as plt\n",
    "%matplotlib inline"
   ]
  },
  {
   "cell_type": "code",
   "execution_count": 5,
   "metadata": {},
   "outputs": [
    {
     "data": {
      "text/html": [
       "<div>\n",
       "<style scoped>\n",
       "    .dataframe tbody tr th:only-of-type {\n",
       "        vertical-align: middle;\n",
       "    }\n",
       "\n",
       "    .dataframe tbody tr th {\n",
       "        vertical-align: top;\n",
       "    }\n",
       "\n",
       "    .dataframe thead th {\n",
       "        text-align: right;\n",
       "    }\n",
       "</style>\n",
       "<table border=\"1\" class=\"dataframe\">\n",
       "  <thead>\n",
       "    <tr style=\"text-align: right;\">\n",
       "      <th></th>\n",
       "      <th>A</th>\n",
       "      <th>B</th>\n",
       "      <th>C</th>\n",
       "      <th>D</th>\n",
       "      <th>E</th>\n",
       "      <th>F</th>\n",
       "      <th>G</th>\n",
       "      <th>H</th>\n",
       "      <th>I</th>\n",
       "      <th>J</th>\n",
       "      <th>...</th>\n",
       "      <th>Y6</th>\n",
       "      <th>Y7</th>\n",
       "      <th>Y8</th>\n",
       "      <th>Y9</th>\n",
       "      <th>Z1</th>\n",
       "      <th>Z2</th>\n",
       "      <th>Z4</th>\n",
       "      <th>Z5</th>\n",
       "      <th>Z6</th>\n",
       "      <th>Class</th>\n",
       "    </tr>\n",
       "  </thead>\n",
       "  <tbody>\n",
       "    <tr>\n",
       "      <th>0</th>\n",
       "      <td>6</td>\n",
       "      <td>860.62</td>\n",
       "      <td>809.73</td>\n",
       "      <td>919.69</td>\n",
       "      <td>30.87</td>\n",
       "      <td>69.81</td>\n",
       "      <td>65.24</td>\n",
       "      <td>74.10</td>\n",
       "      <td>2.51</td>\n",
       "      <td>2</td>\n",
       "      <td>...</td>\n",
       "      <td>0.002757</td>\n",
       "      <td>-0.003582</td>\n",
       "      <td>0.000125</td>\n",
       "      <td>0.001961</td>\n",
       "      <td>-3.290000e-08</td>\n",
       "      <td>0.000346</td>\n",
       "      <td>0.000956</td>\n",
       "      <td>9.150000e-07</td>\n",
       "      <td>1.190000e-07</td>\n",
       "      <td>A</td>\n",
       "    </tr>\n",
       "    <tr>\n",
       "      <th>1</th>\n",
       "      <td>7</td>\n",
       "      <td>871.58</td>\n",
       "      <td>789.74</td>\n",
       "      <td>929.69</td>\n",
       "      <td>32.82</td>\n",
       "      <td>68.94</td>\n",
       "      <td>64.54</td>\n",
       "      <td>75.97</td>\n",
       "      <td>2.65</td>\n",
       "      <td>5</td>\n",
       "      <td>...</td>\n",
       "      <td>0.002757</td>\n",
       "      <td>-0.002944</td>\n",
       "      <td>0.000131</td>\n",
       "      <td>0.001932</td>\n",
       "      <td>-3.290000e-08</td>\n",
       "      <td>0.000358</td>\n",
       "      <td>0.000888</td>\n",
       "      <td>7.880000e-07</td>\n",
       "      <td>1.280000e-07</td>\n",
       "      <td>A</td>\n",
       "    </tr>\n",
       "    <tr>\n",
       "      <th>2</th>\n",
       "      <td>6</td>\n",
       "      <td>854.87</td>\n",
       "      <td>789.74</td>\n",
       "      <td>929.69</td>\n",
       "      <td>32.38</td>\n",
       "      <td>70.29</td>\n",
       "      <td>64.54</td>\n",
       "      <td>75.97</td>\n",
       "      <td>2.66</td>\n",
       "      <td>4</td>\n",
       "      <td>...</td>\n",
       "      <td>0.003168</td>\n",
       "      <td>-0.002944</td>\n",
       "      <td>0.000125</td>\n",
       "      <td>0.001628</td>\n",
       "      <td>-3.290000e-08</td>\n",
       "      <td>0.000339</td>\n",
       "      <td>0.000875</td>\n",
       "      <td>7.660000e-07</td>\n",
       "      <td>1.150000e-07</td>\n",
       "      <td>A</td>\n",
       "    </tr>\n",
       "    <tr>\n",
       "      <th>3</th>\n",
       "      <td>7</td>\n",
       "      <td>823.73</td>\n",
       "      <td>759.75</td>\n",
       "      <td>879.71</td>\n",
       "      <td>29.19</td>\n",
       "      <td>72.93</td>\n",
       "      <td>68.20</td>\n",
       "      <td>78.97</td>\n",
       "      <td>2.58</td>\n",
       "      <td>0</td>\n",
       "      <td>...</td>\n",
       "      <td>0.003168</td>\n",
       "      <td>-0.002490</td>\n",
       "      <td>0.000116</td>\n",
       "      <td>0.001572</td>\n",
       "      <td>-3.290000e-08</td>\n",
       "      <td>0.000308</td>\n",
       "      <td>0.000856</td>\n",
       "      <td>7.330000e-07</td>\n",
       "      <td>9.480000e-08</td>\n",
       "      <td>A</td>\n",
       "    </tr>\n",
       "    <tr>\n",
       "      <th>4</th>\n",
       "      <td>6</td>\n",
       "      <td>823.44</td>\n",
       "      <td>759.75</td>\n",
       "      <td>879.71</td>\n",
       "      <td>28.98</td>\n",
       "      <td>72.96</td>\n",
       "      <td>68.20</td>\n",
       "      <td>78.97</td>\n",
       "      <td>2.56</td>\n",
       "      <td>0</td>\n",
       "      <td>...</td>\n",
       "      <td>0.003091</td>\n",
       "      <td>-0.002601</td>\n",
       "      <td>0.000126</td>\n",
       "      <td>0.001596</td>\n",
       "      <td>-3.290000e-08</td>\n",
       "      <td>0.000318</td>\n",
       "      <td>0.000913</td>\n",
       "      <td>8.330000e-07</td>\n",
       "      <td>1.010000e-07</td>\n",
       "      <td>A</td>\n",
       "    </tr>\n",
       "  </tbody>\n",
       "</table>\n",
       "<p>5 rows × 42 columns</p>\n",
       "</div>"
      ],
      "text/plain": [
       "   A       B       C       D      E      F      G      H     I  J  ...  \\\n",
       "0  6  860.62  809.73  919.69  30.87  69.81  65.24  74.10  2.51  2  ...   \n",
       "1  7  871.58  789.74  929.69  32.82  68.94  64.54  75.97  2.65  5  ...   \n",
       "2  6  854.87  789.74  929.69  32.38  70.29  64.54  75.97  2.66  4  ...   \n",
       "3  7  823.73  759.75  879.71  29.19  72.93  68.20  78.97  2.58  0  ...   \n",
       "4  6  823.44  759.75  879.71  28.98  72.96  68.20  78.97  2.56  0  ...   \n",
       "\n",
       "         Y6        Y7        Y8        Y9            Z1        Z2        Z4  \\\n",
       "0  0.002757 -0.003582  0.000125  0.001961 -3.290000e-08  0.000346  0.000956   \n",
       "1  0.002757 -0.002944  0.000131  0.001932 -3.290000e-08  0.000358  0.000888   \n",
       "2  0.003168 -0.002944  0.000125  0.001628 -3.290000e-08  0.000339  0.000875   \n",
       "3  0.003168 -0.002490  0.000116  0.001572 -3.290000e-08  0.000308  0.000856   \n",
       "4  0.003091 -0.002601  0.000126  0.001596 -3.290000e-08  0.000318  0.000913   \n",
       "\n",
       "             Z5            Z6  Class  \n",
       "0  9.150000e-07  1.190000e-07      A  \n",
       "1  7.880000e-07  1.280000e-07      A  \n",
       "2  7.660000e-07  1.150000e-07      A  \n",
       "3  7.330000e-07  9.480000e-08      A  \n",
       "4  8.330000e-07  1.010000e-07      A  \n",
       "\n",
       "[5 rows x 42 columns]"
      ]
     },
     "execution_count": 5,
     "metadata": {},
     "output_type": "execute_result"
    }
   ],
   "source": [
    "#Getting Dataset\n",
    "data = pd.read_csv(\"Test_Data.csv\")\n",
    "data.drop(['Unnamed: 0'],axis=1,inplace = True)\n",
    "data.head()"
   ]
  },
  {
   "cell_type": "code",
   "execution_count": 6,
   "metadata": {},
   "outputs": [
    {
     "data": {
      "text/html": [
       "<div>\n",
       "<style scoped>\n",
       "    .dataframe tbody tr th:only-of-type {\n",
       "        vertical-align: middle;\n",
       "    }\n",
       "\n",
       "    .dataframe tbody tr th {\n",
       "        vertical-align: top;\n",
       "    }\n",
       "\n",
       "    .dataframe thead th {\n",
       "        text-align: right;\n",
       "    }\n",
       "</style>\n",
       "<table border=\"1\" class=\"dataframe\">\n",
       "  <thead>\n",
       "    <tr style=\"text-align: right;\">\n",
       "      <th></th>\n",
       "      <th>A</th>\n",
       "      <th>B</th>\n",
       "      <th>C</th>\n",
       "      <th>G</th>\n",
       "      <th>R</th>\n",
       "      <th>X6</th>\n",
       "      <th>X8</th>\n",
       "      <th>Class</th>\n",
       "    </tr>\n",
       "  </thead>\n",
       "  <tbody>\n",
       "    <tr>\n",
       "      <th>0</th>\n",
       "      <td>6</td>\n",
       "      <td>860.62</td>\n",
       "      <td>809.73</td>\n",
       "      <td>65.24</td>\n",
       "      <td>573</td>\n",
       "      <td>88.1326</td>\n",
       "      <td>0.2113</td>\n",
       "      <td>A</td>\n",
       "    </tr>\n",
       "    <tr>\n",
       "      <th>1</th>\n",
       "      <td>7</td>\n",
       "      <td>871.58</td>\n",
       "      <td>789.74</td>\n",
       "      <td>64.54</td>\n",
       "      <td>849</td>\n",
       "      <td>84.8057</td>\n",
       "      <td>0.2151</td>\n",
       "      <td>A</td>\n",
       "    </tr>\n",
       "    <tr>\n",
       "      <th>2</th>\n",
       "      <td>6</td>\n",
       "      <td>854.87</td>\n",
       "      <td>789.74</td>\n",
       "      <td>64.54</td>\n",
       "      <td>687</td>\n",
       "      <td>90.5386</td>\n",
       "      <td>0.2127</td>\n",
       "      <td>A</td>\n",
       "    </tr>\n",
       "    <tr>\n",
       "      <th>3</th>\n",
       "      <td>7</td>\n",
       "      <td>823.73</td>\n",
       "      <td>759.75</td>\n",
       "      <td>68.20</td>\n",
       "      <td>475</td>\n",
       "      <td>86.1053</td>\n",
       "      <td>0.2081</td>\n",
       "      <td>A</td>\n",
       "    </tr>\n",
       "    <tr>\n",
       "      <th>4</th>\n",
       "      <td>6</td>\n",
       "      <td>823.44</td>\n",
       "      <td>759.75</td>\n",
       "      <td>68.20</td>\n",
       "      <td>424</td>\n",
       "      <td>87.0283</td>\n",
       "      <td>0.2429</td>\n",
       "      <td>A</td>\n",
       "    </tr>\n",
       "  </tbody>\n",
       "</table>\n",
       "</div>"
      ],
      "text/plain": [
       "   A       B       C      G    R       X6      X8 Class\n",
       "0  6  860.62  809.73  65.24  573  88.1326  0.2113     A\n",
       "1  7  871.58  789.74  64.54  849  84.8057  0.2151     A\n",
       "2  6  854.87  789.74  64.54  687  90.5386  0.2127     A\n",
       "3  7  823.73  759.75  68.20  475  86.1053  0.2081     A\n",
       "4  6  823.44  759.75  68.20  424  87.0283  0.2429     A"
      ]
     },
     "execution_count": 6,
     "metadata": {},
     "output_type": "execute_result"
    }
   ],
   "source": [
    "df = data[['A','B','C','G','R','X6','X8','Class']]\n",
    "df.head()"
   ]
  },
  {
   "cell_type": "code",
   "execution_count": 7,
   "metadata": {},
   "outputs": [
    {
     "data": {
      "text/plain": [
       "<matplotlib.axes._subplots.AxesSubplot at 0x23afdc81d68>"
      ]
     },
     "execution_count": 7,
     "metadata": {},
     "output_type": "execute_result"
    },
    {
     "data": {
      "image/png": "[encoded data removed]",
      "text/plain": [
       "<Figure size 432x288 with 1 Axes>"
      ]
     },
     "metadata": {
      "needs_background": "light"
     },
     "output_type": "display_data"
    }
   ],
   "source": [
    "sns.countplot(df['Class'])"
   ]
  },
  {
   "cell_type": "code",
   "execution_count": 8,
   "metadata": {},
   "outputs": [],
   "source": [
    "df.to_csv(\"cleaned.csv\",index=False)\n"
   ]
  },
  {
   "cell_type": "markdown",
   "metadata": {},
   "source": [
    "# Separating Classes"
   ]
  },
  {
   "cell_type": "code",
   "execution_count": 9,
   "metadata": {},
   "outputs": [],
   "source": [
    "#Separating classes \n",
    "\n",
    "import csv\n",
    "class_A=[]\n",
    "class_B=[]\n",
    "class_C=[]\n",
    "class_D=[]\n",
    "class_E=[]\n",
    "class_F=[]\n",
    "reader = csv.DictReader(open(\"cleaned.csv\"))\n",
    "for raw in reader:\n",
    "    if(raw['Class']=='A'):\n",
    "        class_A.append(raw)\n",
    "    elif(raw['Class']=='B'):\n",
    "        class_B.append(raw)\n",
    "    elif(raw['Class']=='C'):\n",
    "        class_C.append(raw) \n",
    "    elif(raw['Class']=='D'):\n",
    "        class_D.append(raw)   \n",
    "    elif(raw['Class']=='E'):\n",
    "        class_E.append(raw)\n",
    "    elif(raw['Class']=='F'):\n",
    "        class_F.append(raw)    \n"
   ]
  },
  {
   "cell_type": "code",
   "execution_count": 11,
   "metadata": {},
   "outputs": [],
   "source": [
    "#converting into dataframe\n",
    "class_A_df = pd.DataFrame(class_A)\n",
    "class_B_df = pd.DataFrame(class_B)\n",
    "class_C_df = pd.DataFrame(class_C)\n",
    "class_D_df = pd.DataFrame(class_D)\n",
    "class_E_df = pd.DataFrame(class_E)\n",
    "class_F_df = pd.DataFrame(class_F)"
   ]
  },
  {
   "cell_type": "code",
   "execution_count": 12,
   "metadata": {},
   "outputs": [
    {
     "data": {
      "text/html": [
       "<div>\n",
       "<style scoped>\n",
       "    .dataframe tbody tr th:only-of-type {\n",
       "        vertical-align: middle;\n",
       "    }\n",
       "\n",
       "    .dataframe tbody tr th {\n",
       "        vertical-align: top;\n",
       "    }\n",
       "\n",
       "    .dataframe thead th {\n",
       "        text-align: right;\n",
       "    }\n",
       "</style>\n",
       "<table border=\"1\" class=\"dataframe\">\n",
       "  <thead>\n",
       "    <tr style=\"text-align: right;\">\n",
       "      <th></th>\n",
       "      <th>A</th>\n",
       "      <th>B</th>\n",
       "      <th>C</th>\n",
       "      <th>G</th>\n",
       "      <th>R</th>\n",
       "      <th>X6</th>\n",
       "      <th>X8</th>\n",
       "      <th>Class</th>\n",
       "    </tr>\n",
       "  </thead>\n",
       "  <tbody>\n",
       "    <tr>\n",
       "      <th>0</th>\n",
       "      <td>6</td>\n",
       "      <td>860.62</td>\n",
       "      <td>809.73</td>\n",
       "      <td>65.24</td>\n",
       "      <td>573</td>\n",
       "      <td>88.1326</td>\n",
       "      <td>0.2113</td>\n",
       "      <td>A</td>\n",
       "    </tr>\n",
       "    <tr>\n",
       "      <th>1</th>\n",
       "      <td>7</td>\n",
       "      <td>871.58</td>\n",
       "      <td>789.74</td>\n",
       "      <td>64.54</td>\n",
       "      <td>849</td>\n",
       "      <td>84.8057</td>\n",
       "      <td>0.2151</td>\n",
       "      <td>A</td>\n",
       "    </tr>\n",
       "    <tr>\n",
       "      <th>2</th>\n",
       "      <td>6</td>\n",
       "      <td>854.87</td>\n",
       "      <td>789.74</td>\n",
       "      <td>64.54</td>\n",
       "      <td>687</td>\n",
       "      <td>90.5386</td>\n",
       "      <td>0.2127</td>\n",
       "      <td>A</td>\n",
       "    </tr>\n",
       "    <tr>\n",
       "      <th>3</th>\n",
       "      <td>7</td>\n",
       "      <td>823.73</td>\n",
       "      <td>759.75</td>\n",
       "      <td>68.2</td>\n",
       "      <td>475</td>\n",
       "      <td>86.1053</td>\n",
       "      <td>0.2081</td>\n",
       "      <td>A</td>\n",
       "    </tr>\n",
       "    <tr>\n",
       "      <th>4</th>\n",
       "      <td>6</td>\n",
       "      <td>823.44</td>\n",
       "      <td>759.75</td>\n",
       "      <td>68.2</td>\n",
       "      <td>424</td>\n",
       "      <td>87.0283</td>\n",
       "      <td>0.2429</td>\n",
       "      <td>A</td>\n",
       "    </tr>\n",
       "  </tbody>\n",
       "</table>\n",
       "</div>"
      ],
      "text/plain": [
       "   A       B       C      G    R       X6      X8 Class\n",
       "0  6  860.62  809.73  65.24  573  88.1326  0.2113     A\n",
       "1  7  871.58  789.74  64.54  849  84.8057  0.2151     A\n",
       "2  6  854.87  789.74  64.54  687  90.5386  0.2127     A\n",
       "3  7  823.73  759.75   68.2  475  86.1053  0.2081     A\n",
       "4  6  823.44  759.75   68.2  424  87.0283  0.2429     A"
      ]
     },
     "execution_count": 12,
     "metadata": {},
     "output_type": "execute_result"
    }
   ],
   "source": [
    "#class_C_df['Class'].value_counts()\n",
    "class_A_df.head()"
   ]
  },
  {
   "cell_type": "code",
   "execution_count": 13,
   "metadata": {},
   "outputs": [],
   "source": [
    "# converting into csv files by droping class column \n",
    "\n",
    "class_A_df.drop(['Class'],axis=1).to_csv(\"class_A1.csv\",index=False)\n",
    "class_B_df.drop(['Class'],axis=1).to_csv(\"class_B1.csv\",index=False)\n",
    "class_C_df.drop(['Class'],axis=1).to_csv(\"class_C1.csv\",index=False)\n",
    "class_D_df.drop(['Class'],axis=1).to_csv(\"class_D1.csv\",index=False)\n",
    "class_E_df.drop(['Class'],axis=1).to_csv(\"class_E1.csv\",index=False)\n",
    "class_F_df.drop(['Class'],axis=1).to_csv(\"class_F1.csv\",index=False)"
   ]
  },
  {
   "cell_type": "code",
   "execution_count": null,
   "metadata": {},
   "outputs": [],
   "source": []
  }
 ],
 "metadata": {
  "kernelspec": {
   "display_name": "Python 3",
   "language": "python",
   "name": "python3"
  },
  "language_info": {
   "codemirror_mode": {
    "name": "ipython",
    "version": 3
   },
   "file_extension": ".py",
   "mimetype": "text/x-python",
   "name": "python",
   "nbconvert_exporter": "python",
   "pygments_lexer": "ipython3",
   "version": "3.7.3"
  }
 },
 "nbformat": 4,
 "nbformat_minor": 2
}
